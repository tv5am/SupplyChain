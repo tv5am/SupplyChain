{
 "cells": [
  {
   "cell_type": "code",
   "execution_count": 246,
   "metadata": {
    "collapsed": false
   },
   "outputs": [],
   "source": [
    "import re\n",
    "from nltk.corpus import stopwords\n",
    "from string import digits\n",
    "from sklearn.feature_extraction.text import CountVectorizer\n",
    "\n",
    "from sklearn.neighbors import KNeighborsClassifier\n",
    "from sklearn.linear_model import LogisticRegression\n",
    "\n",
    "from sklearn.naive_bayes import MultinomialNB\n",
    "from sklearn.ensemble import VotingClassifier\n",
    "from sklearn.tree import DecisionTreeClassifier\n",
    "from sklearn.ensemble import RandomForestClassifier"
   ]
  },
  {
   "cell_type": "code",
   "execution_count": 247,
   "metadata": {
    "collapsed": true
   },
   "outputs": [],
   "source": [
    "#read the reviews and their polarities from a given file\n",
    "def loadData(fname):\n",
    "    reviews=[]\n",
    "    labels=[]\n",
    "    f=open(fname)\n",
    "    for line in f:\n",
    "        review,rating=line.strip().split('\\t')  \n",
    "        reviews.append(review.lower())    \n",
    "        labels.append(int(rating))\n",
    "    f.close()\n",
    "    return reviews,labels\n",
    "    \n",
    "def loadtestData(fname):\n",
    "    datas=[]\n",
    "    f=open(fname)\n",
    "    for data in f:\n",
    "        datas.append(data.lower().strip())    \n",
    "    f.close()\n",
    "    return datas\n",
    "\n",
    "rev_train,labels_train=loadData('training.txt')\n",
    "#rev_test=loadtestData('testing.txt')\n"
   ]
  },
  {
   "cell_type": "code",
   "execution_count": 248,
   "metadata": {
    "collapsed": false
   },
   "outputs": [
    {
     "name": "stdout",
     "output_type": "stream",
     "text": [
      "[0, 0, 0, 1, 0]\n"
     ]
    }
   ],
   "source": [
    "print labels_train[0:5]"
   ]
  },
  {
   "cell_type": "code",
   "execution_count": 249,
   "metadata": {
    "collapsed": true
   },
   "outputs": [],
   "source": [
    "rev_test=rev_train[:2000]\n",
    "rev_train=rev_train[2001:]\n",
    "labels_test=labels_train[0:2000]\n",
    "labels_train=labels_train[2001:]\n",
    "\n",
    "\n",
    "#from sklearn.cross_validation import train_test_split\n",
    "\n",
    "#rev_train, rev_test = train_test_split(rev_train, test_size = 0.3)\n",
    "#labels_train, labels_test = train_test_split(labels_train, test_size = 0.3)"
   ]
  },
  {
   "cell_type": "code",
   "execution_count": null,
   "metadata": {
    "collapsed": true
   },
   "outputs": [],
   "source": []
  },
  {
   "cell_type": "code",
   "execution_count": 250,
   "metadata": {
    "collapsed": false
   },
   "outputs": [],
   "source": [
    "# rev_train[0]\n",
    "# print len(rev_train)"
   ]
  },
  {
   "cell_type": "code",
   "execution_count": 251,
   "metadata": {
    "collapsed": true
   },
   "outputs": [],
   "source": [
    "###Process data\n",
    "def ProcessData(train_text):\n",
    "    \n",
    "    x = 0\n",
    "    output_arr = []\n",
    "    for sentence in train_text:\n",
    "#         print x\n",
    "#         x+=1\n",
    "        input_words = sentence.split(\" \")\n",
    "        output_str = \"\"\n",
    "        for i in input_words:\n",
    "            i = re.sub(\"\\d+\", \"\", i)\n",
    "            i = re.sub(r\"http\\S+\", \"\", i) #re.sub(r'^http?:\\/\\/.*[\\r\\n]*', '', train_text[i]) # remove hyperlinks\n",
    "            i = re.sub(r'[?|!]',r'.', i) # removing punctuation  \n",
    "            i = re.sub('n\\'t',' not', i)#replace abbreviation\n",
    "            i = re.sub('\\.{2,}','. ', i)\n",
    "            i = re.sub('<[a-zA-Z]*>', '', i)\n",
    "\n",
    "            i = i.replace('&#;', '\\'')\n",
    "            \n",
    "            i = i.encode('utf8')  # decoding data  \n",
    "            i = i.lower() #lower\n",
    "            output_str += i + \" \"\n",
    "        output_arr.append(output_str)\n",
    "    return output_arr\n"
   ]
  },
  {
   "cell_type": "code",
   "execution_count": 252,
   "metadata": {
    "collapsed": false
   },
   "outputs": [],
   "source": []
  },
  {
   "cell_type": "code",
   "execution_count": 253,
   "metadata": {
    "collapsed": true
   },
   "outputs": [],
   "source": [
    "def CombineNot(train_text):\n",
    "    output_arr = []\n",
    "    for sentence in train_text:\n",
    "        input_words = sentence.split(\" \")\n",
    "        output_str = input_words[0]\n",
    "        i = 1\n",
    "        while(i < len(input_words)-1):\n",
    "            #print \"i = \" + str(i) + input_words[i]\n",
    "            if input_words[i] == \"not\":\n",
    "                output_str += \" \" + input_words[i] + input_words[i+1]\n",
    "            else :\n",
    "                output_str += \" \" + input_words[i] + \" \" + input_words[i+1]\n",
    "            i+=2\n",
    "        output_arr.append(output_str)\n",
    "    return output_arr\n",
    "        "
   ]
  },
  {
   "cell_type": "code",
   "execution_count": 254,
   "metadata": {
    "collapsed": false
   },
   "outputs": [],
   "source": [
    "rev_train_temp = ProcessData(rev_train)\n",
    "#print rev_train_temp[0]\n",
    "rev_train_temp = CombineNot(rev_train_temp)\n",
    "#print rev_train_temp[0]\n",
    "rev_test=ProcessData(rev_test)\n",
    "rev_test=CombineNot(rev_test)"
   ]
  },
  {
   "cell_type": "code",
   "execution_count": null,
   "metadata": {
    "collapsed": false
   },
   "outputs": [],
   "source": []
  },
  {
   "cell_type": "code",
   "execution_count": 303,
   "metadata": {
    "collapsed": true
   },
   "outputs": [],
   "source": [
    "stop_words_list = [u'a',\n",
    " u'about',\n",
    " u'above',\n",
    " u'after',\n",
    " u'again',\n",
    " #u'against',\n",
    " u'all',\n",
    " u'am',\n",
    " u'an',\n",
    " u'and',\n",
    " u'any',\n",
    " u'are',\n",
    " u'as',\n",
    " u'at',\n",
    " u'be',\n",
    " #u'because',\n",
    " u'been',\n",
    " u'before',\n",
    " u'being',\n",
    " u'below',\n",
    " #u'between',\n",
    " u'both',\n",
    " u'but',\n",
    " u'by',\n",
    " u'can',\n",
    " u'did',\n",
    " u'do',\n",
    " u'does',\n",
    " u'doing',\n",
    " u'don',\n",
    " u'down',\n",
    " u'during',\n",
    " u'each',\n",
    " u'few',\n",
    " u'for',\n",
    " u'from',\n",
    " #u'further',\n",
    " u'had',\n",
    " u'has',\n",
    " u'have',\n",
    " u'having',\n",
    " u'he',\n",
    " u'her',\n",
    " u'here',\n",
    " u'hers',\n",
    " u'herself',\n",
    " u'him',\n",
    " u'himself',\n",
    " u'his',\n",
    " u'how',\n",
    " u'i',\n",
    " u'if',\n",
    " u'in',\n",
    " u'into',\n",
    " u'is',\n",
    " u'it',\n",
    " u'its',\n",
    " u'itself',\n",
    " u'just',\n",
    " u'me',\n",
    " u'more',\n",
    " u'most',\n",
    " u'my',\n",
    " u'myself',\n",
    " u'no',\n",
    " u'nor',\n",
    " u'not',\n",
    " u'now',\n",
    " u'of',\n",
    " u'off',\n",
    " u'on',\n",
    " u'once',\n",
    " u'only',\n",
    " u'or',\n",
    " u'other',\n",
    " u'our',\n",
    " u'ours',\n",
    " u'ourselves',\n",
    " u'out',\n",
    " u'over',\n",
    " u'own',\n",
    " u's',\n",
    " u'same',\n",
    " u'she',\n",
    " u'should',\n",
    " u'so',\n",
    " u'some',\n",
    " u'such',\n",
    " u't',\n",
    " u'than',\n",
    " u'that',\n",
    " u'the',\n",
    " u'their',\n",
    " u'theirs',\n",
    " u'them',\n",
    " u'themselves',\n",
    " u'then',\n",
    " u'there',\n",
    " u'these',\n",
    " u'they',\n",
    " u'this',\n",
    " u'those',\n",
    " u'through',\n",
    " u'to',\n",
    " u'too',\n",
    " #u'under',\n",
    " #u'until',\n",
    " u'up',\n",
    " #u'very',\n",
    " u'was',\n",
    " u'we',\n",
    " u'were',\n",
    " u'what',\n",
    " u'when',\n",
    " u'where',\n",
    " u'which',\n",
    " u'while',\n",
    " u'who',\n",
    " u'whom',\n",
    " u'why',\n",
    " u'will',\n",
    " u'with',\n",
    " u'you',\n",
    " u'your',\n",
    " u'yours',\n",
    " u'yourself',\n",
    " u'yourselves']"
   ]
  },
  {
   "cell_type": "code",
   "execution_count": 304,
   "metadata": {
    "collapsed": false
   },
   "outputs": [
    {
     "data": {
      "text/plain": [
       "CountVectorizer(analyzer='word', binary=False, decode_error=u'strict',\n",
       "        dtype=<type 'numpy.int64'>, encoding=u'utf-8', input=u'content',\n",
       "        lowercase=True, max_df=1.0, max_features=None, min_df=1,\n",
       "        ngram_range=(1, 2), preprocessor=None,\n",
       "        stop_words=[u'a', u'about', u'above', u'after', u'again', u'all', u'am', u'an', u'and', u'any', u'are', u'as', u'at', u'be', u'been', u'before', u'being', u'below', u'both', u'but', u'by', u'can', u'did', u'do', u'does', u'doing', u'don', u'down', u'during', u'each', u'few', u'for', u'from', u'had',...', u'who', u'whom', u'why', u'will', u'with', u'you', u'your', u'yours', u'yourself', u'yourselves'],\n",
       "        strip_accents=None, token_pattern=u'(?u)\\\\b\\\\w\\\\w+\\\\b',\n",
       "        tokenizer=None, vocabulary=None)"
      ]
     },
     "execution_count": 304,
     "metadata": {},
     "output_type": "execute_result"
    }
   ],
   "source": [
    "###Analysis Data\n",
    "#Build a counter based on the training dataset\n",
    "#counter = CountVectorizer(analyzer = 'word', stop_words=set(stopwords.words('english')),ngram_range=(1,2))\n",
    "counter = CountVectorizer(analyzer = 'word', stop_words=stop_words_list ,ngram_range=(1,2))\n",
    "counter.fit(rev_train) #only focus on the text appear in rev_train"
   ]
  },
  {
   "cell_type": "code",
   "execution_count": null,
   "metadata": {
    "collapsed": true
   },
   "outputs": [],
   "source": []
  },
  {
   "cell_type": "code",
   "execution_count": 305,
   "metadata": {
    "collapsed": true
   },
   "outputs": [],
   "source": [
    "#count the number of times each term appears in a document and transform each doc into a count vector\n",
    "counts_train = counter.transform(rev_train)#transform the training data\n",
    "counts_test = counter.transform(rev_test)#transform the testing data"
   ]
  },
  {
   "cell_type": "code",
   "execution_count": null,
   "metadata": {
    "collapsed": true
   },
   "outputs": [],
   "source": []
  },
  {
   "cell_type": "code",
   "execution_count": 306,
   "metadata": {
    "collapsed": false
   },
   "outputs": [],
   "source": [
    "clf1 = LogisticRegression()\n",
    "#clf2 = KNeighborsClassifier(3)\n",
    "clf3 = MultinomialNB()\n",
    "clf4 = DecisionTreeClassifier(max_depth=20, max_features=None, class_weight=None)\n",
    "#rfc = RandomForestClassifier(n_estimators=100)"
   ]
  },
  {
   "cell_type": "code",
   "execution_count": 307,
   "metadata": {
    "collapsed": true
   },
   "outputs": [],
   "source": [
    "#classifier = MultinomialNB()\n",
    "#classifier = RandomForestClassifier(n_estimators = 50) \n",
    "#classifier = DecisionTreeClassifier(max_depth=20, max_features=None, class_weight=None)\n",
    "\n",
    "classifier = VotingClassifier(estimators=[('dt', clf4), ('lr', clf1), ('mnb', clf3)], voting='soft', weights=[2, 3, 3])"
   ]
  },
  {
   "cell_type": "code",
   "execution_count": 308,
   "metadata": {
    "collapsed": false
   },
   "outputs": [
    {
     "data": {
      "text/plain": [
       "VotingClassifier(estimators=[('dt', DecisionTreeClassifier(class_weight=None, criterion='gini', max_depth=20,\n",
       "            max_features=None, max_leaf_nodes=None, min_samples_leaf=1,\n",
       "            min_samples_split=2, min_weight_fraction_leaf=0.0,\n",
       "            presort=False, random_state=None, splitter='best')), ('lr', ... verbose=0, warm_start=False)), ('mnb', MultinomialNB(alpha=1.0, class_prior=None, fit_prior=True))],\n",
       "         voting='soft', weights=[2, 3, 3])"
      ]
     },
     "execution_count": 308,
     "metadata": {},
     "output_type": "execute_result"
    }
   ],
   "source": [
    "\n",
    "classifier.fit(counts_train, labels_train)\n"
   ]
  },
  {
   "cell_type": "code",
   "execution_count": 309,
   "metadata": {
    "collapsed": true
   },
   "outputs": [],
   "source": [
    "\n",
    "#use the classifier to predict\n",
    "predicted=classifier.predict(counts_test)"
   ]
  },
  {
   "cell_type": "code",
   "execution_count": 310,
   "metadata": {
    "collapsed": false
   },
   "outputs": [
    {
     "name": "stdout",
     "output_type": "stream",
     "text": [
      "0.8395\n"
     ]
    }
   ],
   "source": [
    "from sklearn import metrics\n",
    "print metrics.accuracy_score(predicted, labels_test)"
   ]
  },
  {
   "cell_type": "code",
   "execution_count": 281,
   "metadata": {
    "collapsed": true
   },
   "outputs": [],
   "source": [
    "resultwriter=open('out.txt','w')\n",
    "for each_predicted in predicted:\n",
    "    resultwriter.write(str(each_predicted)+'\\n')\n",
    "resultwriter.close()"
   ]
  },
  {
   "cell_type": "code",
   "execution_count": null,
   "metadata": {
    "collapsed": true
   },
   "outputs": [],
   "source": []
  },
  {
   "cell_type": "code",
   "execution_count": null,
   "metadata": {
    "collapsed": true
   },
   "outputs": [],
   "source": []
  }
 ],
 "metadata": {
  "kernelspec": {
   "display_name": "Python 2",
   "language": "python",
   "name": "python2"
  },
  "language_info": {
   "codemirror_mode": {
    "name": "ipython",
    "version": 2
   },
   "file_extension": ".py",
   "mimetype": "text/x-python",
   "name": "python",
   "nbconvert_exporter": "python",
   "pygments_lexer": "ipython2",
   "version": "2.7.10"
  }
 },
 "nbformat": 4,
 "nbformat_minor": 0
}
